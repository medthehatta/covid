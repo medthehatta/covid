{
 "cells": [
  {
   "cell_type": "code",
   "execution_count": null,
   "metadata": {},
   "outputs": [],
   "source": [
    "import pandas as pd\n",
    "import numpy as np\n",
    "from scipy.optimize import curve_fit"
   ]
  },
  {
   "cell_type": "code",
   "execution_count": null,
   "metadata": {},
   "outputs": [],
   "source": [
    "import requests\n",
    "import io\n",
    "import os\n",
    "\n",
    "def _csv_from_path_or_url(path, url):\n",
    "    if os.path.isfile(path):\n",
    "        return path\n",
    "    else:\n",
    "        r = requests.get(url)\n",
    "        r.raise_for_status()\n",
    "        # After fetching from the URL, cache at the path\n",
    "        contents = r.text\n",
    "        with open(path, \"w\") as f:\n",
    "            f.write(contents)\n",
    "        return path"
   ]
  },
  {
   "cell_type": "code",
   "execution_count": null,
   "metadata": {},
   "outputs": [],
   "source": [
    "csv = _csv_from_path_or_url(\n",
    "    path=\"south-korea-active-cases.csv\",\n",
    "    url=\"https://qbin.io/bs-mixed-gv7a/raw\",\n",
    ")\n",
    "df = pd.read_csv(csv)\n",
    "(df.info(), df.head(), df.plot(y='active_cases'))"
   ]
  },
  {
   "cell_type": "markdown",
   "metadata": {},
   "source": [
    "Try fitting \"Gaussian\" with form $f(x) = y_0 + a e^{-\\frac{(x - m)^2}{b}}$:"
   ]
  },
  {
   "cell_type": "code",
   "execution_count": null,
   "metadata": {},
   "outputs": [],
   "source": [
    "def gaussian(x, a, b, m, y0):\n",
    "    return y0 + a * np.exp(-(x - m)**2 / b)"
   ]
  },
  {
   "cell_type": "code",
   "execution_count": null,
   "metadata": {},
   "outputs": [],
   "source": [
    "pre_peak_data = df[df['days_since_feb_17'] < 24]\n",
    "(fit_, cov) = curve_fit(\n",
    "    gaussian,\n",
    "    xdata=pre_peak_data['days_since_feb_17'],\n",
    "    ydata=pre_peak_data['active_cases'],\n",
    "    p0=[1000, 200, 20, 0],\n",
    ")\n",
    "print(f\"f ~ y0 + a exp(-(x-m)^2 / b)\")\n",
    "print(f\"a={fit_[0]:0.2f} b={fit_[1]:0.2f} m={fit_[2]:0.2f} y0={fit_[3]:0.2f}\")\n",
    "df['gaussian_estimate'] = [gaussian(x, *fit_) for x in df.index]\n",
    "ax = df.plot(y=['active_cases', 'gaussian_estimate'])"
   ]
  },
  {
   "cell_type": "code",
   "execution_count": null,
   "metadata": {},
   "outputs": [],
   "source": []
  }
 ],
 "metadata": {
  "kernelspec": {
   "display_name": "Python 3",
   "language": "python",
   "name": "python3"
  },
  "language_info": {
   "codemirror_mode": {
    "name": "ipython",
    "version": 3
   },
   "file_extension": ".py",
   "mimetype": "text/x-python",
   "name": "python",
   "nbconvert_exporter": "python",
   "pygments_lexer": "ipython3",
   "version": "3.8.2"
  }
 },
 "nbformat": 4,
 "nbformat_minor": 2
}
