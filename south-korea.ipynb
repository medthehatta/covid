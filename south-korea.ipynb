{
 "cells": [
  {
   "cell_type": "code",
   "execution_count": null,
   "metadata": {},
   "outputs": [],
   "source": [
    "import pandas as pd\n",
    "import numpy as np\n",
    "from scipy.optimize import curve_fit"
   ]
  },
  {
   "cell_type": "code",
   "execution_count": null,
   "metadata": {},
   "outputs": [],
   "source": [
    "import requests\n",
    "import io\n",
    "import os\n",
    "\n",
    "def _csv_from_path_or_url(path, url):\n",
    "    if os.path.isfile(path):\n",
    "        return path\n",
    "    else:\n",
    "        r = requests.get(url)\n",
    "        r.raise_for_status()\n",
    "        # After fetching from the URL, cache at the path\n",
    "        contents = r.text\n",
    "        with open(path, \"w\") as f:\n",
    "            f.write(contents)\n",
    "        return path"
   ]
  },
  {
   "cell_type": "code",
   "execution_count": null,
   "metadata": {},
   "outputs": [],
   "source": [
    "import inspect\n",
    "def format_fit_vars(ansatz, fit_, cov):\n",
    "    arg_names = inspect.getargs(ansatz.__code__).args[1:]\n",
    "    stddevs = np.sqrt(cov.diagonal())\n",
    "    values = zip(arg_names, fit_, stddevs)\n",
    "    return \" \".join(f\"{arg}={val:0.2f}±{std:0.1f}\" for (arg, val, std) in values)"
   ]
  },
  {
   "cell_type": "code",
   "execution_count": null,
   "metadata": {},
   "outputs": [],
   "source": [
    "csv = _csv_from_path_or_url(\n",
    "    path=\"south-korea-active-cases.csv\",\n",
    "    url=\"https://qbin.io/bs-mixed-gv7a/raw\",\n",
    ")\n",
    "df = pd.read_csv(csv)\n",
    "(df.info(), df.head(), df.plot(y='active_cases'))"
   ]
  },
  {
   "cell_type": "code",
   "execution_count": null,
   "metadata": {},
   "outputs": [],
   "source": [
    "def gaussian(x, a, b, m, y0):\n",
    "    return y0 + a * np.exp(-(x - m)**2 / b)\n",
    "gaussian.initial_guess = [1e4, 10, 20, 0]\n",
    "\n",
    "def gaussian_dusty(x, y0, A, w, xc):\n",
    "    four_ln2 = 4 * np.log(2)\n",
    "    norm_denom = w * np.sqrt(np.pi / four_ln2)\n",
    "    return y0 + A / norm_denom * np.exp(-four_ln2*(x - xc)**2/w**2)\n",
    "gaussian_dusty.initial_guess_guess = [0, 2e5, 25, 2e6]"
   ]
  },
  {
   "cell_type": "code",
   "execution_count": null,
   "metadata": {},
   "outputs": [],
   "source": [
    "ansatz = gaussian_dusty\n",
    "\n",
    "data_kept = df[df['days_since_feb_17'] < 25]\n",
    "(fit_, cov) = curve_fit(\n",
    "    ansatz,\n",
    "    xdata=data_kept['days_since_feb_17'],\n",
    "    ydata=data_kept['active_cases'],\n",
    "    p0=ansatz.initial_guess if hasattr(ansatz, 'initial_guess') else None,\n",
    ")\n",
    "print(format_fit_vars(ansatz, fit_, cov))\n",
    "df['gaussian_estimate'] = [ansatz(x, *fit_) for x in df.index]\n",
    "ax = df.plot(y=['active_cases', 'gaussian_estimate'])"
   ]
  }
 ],
 "metadata": {
  "kernelspec": {
   "display_name": "Python 3",
   "language": "python",
   "name": "python3"
  },
  "language_info": {
   "codemirror_mode": {
    "name": "ipython",
    "version": 3
   },
   "file_extension": ".py",
   "mimetype": "text/x-python",
   "name": "python",
   "nbconvert_exporter": "python",
   "pygments_lexer": "ipython3",
   "version": "3.8.2"
  }
 },
 "nbformat": 4,
 "nbformat_minor": 2
}
